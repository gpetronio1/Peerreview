{
 "cells": [
  {
   "cell_type": "markdown",
   "id": "1d97ef46-13a8-40b7-ac78-e8c118a991bb",
   "metadata": {},
   "source": [
    "# Data Science Tools and Ecosystem"
   ]
  },
  {
   "cell_type": "markdown",
   "id": "7976bc75-f550-4757-a13e-5fb83b41bf3f",
   "metadata": {},
   "source": [
    "In this notebook, Data Science Tools and Ecosystem are summarized."
   ]
  },
  {
   "cell_type": "markdown",
   "id": "0d306afe-de8c-4cb6-9c66-509fae4a968f",
   "metadata": {},
   "source": [
    "**Objectives:**\n",
    "- List Popular Languages that Data Scientists use\n",
    "- Commonly used libraries\n",
    "- evaluating arithmetic expressions in Python"
   ]
  },
  {
   "cell_type": "markdown",
   "id": "dd9f7e5b-8a7f-4a91-a0d6-f01c2ce86da8",
   "metadata": {},
   "source": [
    "Some of the popular languages that Data Scientists use are:\n",
    "1. R\n",
    "2. Python\n",
    "3. SQL\n",
    "4. Java"
   ]
  },
  {
   "cell_type": "markdown",
   "id": "1d03dc79-e689-48ea-af31-71fde8680b5b",
   "metadata": {},
   "source": [
    "Some of the commonly used libraries used by Data Scientists include:\n",
    "1. Pandas\n",
    "2. NumPy\n",
    "3. matplot lib\n",
    "4. Scikit\n"
   ]
  },
  {
   "cell_type": "markdown",
   "id": "f2e3477a-228b-4dca-b117-bef56345a2bd",
   "metadata": {},
   "source": [
    "|Data Science Tools|\n",
    "|------------------|\n",
    "|Jupyter Notebooks|\n",
    "|R studio|\n",
    "|Github|"
   ]
  },
  {
   "cell_type": "markdown",
   "id": "0c85a5ed-3061-4ac1-8045-0a4113ba55cc",
   "metadata": {},
   "source": [
    "### Below are a few examples of evaluating arithmetic expressions in Python."
   ]
  },
  {
   "cell_type": "code",
   "execution_count": 3,
   "id": "08365f5c-55ff-448c-a4cb-e96c84939b31",
   "metadata": {},
   "outputs": [
    {
     "name": "stdout",
     "output_type": "stream",
     "text": [
      "This a simple arithmetic expression to mutiply then add integers\n"
     ]
    },
    {
     "data": {
      "text/plain": [
       "17"
      ]
     },
     "execution_count": 3,
     "metadata": {},
     "output_type": "execute_result"
    }
   ],
   "source": [
    "print(\"This a simple arithmetic expression to mutiply then add integers\")\n",
    "\n",
    "(3*4)+5"
   ]
  },
  {
   "cell_type": "code",
   "execution_count": 4,
   "id": "dc553c68-5c10-48f7-ab09-152a25bac5bf",
   "metadata": {},
   "outputs": [
    {
     "name": "stdout",
     "output_type": "stream",
     "text": [
      "This will convert 200 minutes to hours by diving by 60\n"
     ]
    },
    {
     "data": {
      "text/plain": [
       "3.3333333333333335"
      ]
     },
     "execution_count": 4,
     "metadata": {},
     "output_type": "execute_result"
    }
   ],
   "source": [
    "print(\"This will convert 200 minutes to hours by diving by 60\")\n",
    "\n",
    "200/60"
   ]
  },
  {
   "cell_type": "markdown",
   "id": "66dca8f3-27e5-46f3-b068-801c7670b2c8",
   "metadata": {},
   "source": [
    "## Authur\n",
    "Geno Petronio"
   ]
  },
  {
   "cell_type": "code",
   "execution_count": null,
   "id": "d0e90c37-434e-4a69-a3a6-f85aaa5e9b64",
   "metadata": {},
   "outputs": [],
   "source": []
  }
 ],
 "metadata": {
  "kernelspec": {
   "display_name": "Python 3 (ipykernel)",
   "language": "python",
   "name": "python3"
  },
  "language_info": {
   "codemirror_mode": {
    "name": "ipython",
    "version": 3
   },
   "file_extension": ".py",
   "mimetype": "text/x-python",
   "name": "python",
   "nbconvert_exporter": "python",
   "pygments_lexer": "ipython3",
   "version": "3.12.8"
  }
 },
 "nbformat": 4,
 "nbformat_minor": 5
}
